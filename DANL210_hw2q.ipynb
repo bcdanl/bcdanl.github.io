{
  "cells": [
    {
      "cell_type": "raw",
      "metadata": {},
      "source": [
        "---\n",
        "title: \"DANL 210: Data Preparation and Management<br>Homework Assignment 2\"\n",
        "author: \"Byeong-Hak Choe\"\n",
        "---"
      ],
      "id": "c8aaf557"
    },
    {
      "cell_type": "markdown",
      "metadata": {},
      "source": [
        "# Direction for Homework Assignment 2\n",
        "\n",
        "-   Write a Python code to answer each question.\n",
        "\n",
        "-   Make at least some simple comment (`# ...`) in each question.\n",
        "\n",
        "-   Import Python libraries you need here.\n"
      ],
      "id": "1f62c2eb"
    },
    {
      "cell_type": "code",
      "metadata": {},
      "source": [
        "import pandas as pd\n",
        "import seaborn as sns"
      ],
      "id": "fc2cca49",
      "execution_count": null,
      "outputs": []
    },
    {
      "cell_type": "markdown",
      "metadata": {},
      "source": [
        "<br><br><br>\n",
        "\n",
        "# Question 1\n",
        "\n",
        "Consider the `stock` DataFrame for Question 1.\n"
      ],
      "id": "5ad1b5a4"
    },
    {
      "cell_type": "code",
      "metadata": {},
      "source": [
        "path = 'https://bcdanl.github.io/data/stocks2013_2023.csv'\n",
        "stock = pd.read_csv(path)"
      ],
      "id": "430d05e7",
      "execution_count": null,
      "outputs": []
    },
    {
      "cell_type": "markdown",
      "metadata": {},
      "source": [
        "## Q1a\n",
        "\n",
        "What are the minimum, first quartile, median, thrid quartile, maximum, mean, and standard deviation of `Close` and `Volume` for each `company`?\n"
      ],
      "id": "754fd397"
    },
    {
      "cell_type": "markdown",
      "metadata": {},
      "source": [
        "<br><br>\n",
        "\n",
        "## Q1b\n",
        "\n",
        "Find the 10 largest values for `Volume`. What are the `companies` and `dates` associated with those 10 largest values for `Volume`?\n"
      ],
      "id": "5cfaee31"
    },
    {
      "cell_type": "markdown",
      "metadata": {},
      "source": [
        "<br><br>\n",
        "\n",
        "## Q1c\n",
        "\n",
        "Calculate the Z-scores of Open and Close for each company using `apply()`.\n"
      ],
      "id": "ec35a86e"
    },
    {
      "cell_type": "markdown",
      "metadata": {},
      "source": [
        "## Q1d\n",
        "\n",
        "Use the `transform()` method on the `stock` data to represent all the values of `Open`, `High`, `Low`, `Close`, `Adj Close`, and `Volume` in terms of the first date in the data.\n",
        "\n",
        "To do so, divide all values for each company by the values of the first date in the data for that company.\n"
      ],
      "id": "79029416"
    },
    {
      "cell_type": "markdown",
      "metadata": {},
      "source": [
        "## Q1e\n",
        "\n",
        "Provide both seaborn code and a simple comment to describe the daily trend of normalized values of `Close` for each company in one plot. The normalized values of `Close` are the one calculated from Q1d.\n"
      ],
      "id": "9ca98a8f"
    },
    {
      "cell_type": "markdown",
      "metadata": {},
      "source": [
        "## Q1f\n",
        "\n",
        "Create a box plot of `Close` for each `company` in one plot. Make a simple comment on the plot.\n"
      ],
      "id": "9220bb9c"
    },
    {
      "cell_type": "markdown",
      "metadata": {},
      "source": [
        "<br><br><br>\n",
        "\n",
        "# Question 2\n",
        "\n",
        "Load the DataFrfame for Question 2.\n"
      ],
      "id": "f6043c4b"
    },
    {
      "cell_type": "code",
      "metadata": {},
      "source": [
        "path = 'https://bcdanl.github.io/data/climate_finance.csv'\n",
        "climate_finance = pd.read_csv(path)"
      ],
      "id": "267829b3",
      "execution_count": null,
      "outputs": []
    },
    {
      "cell_type": "markdown",
      "metadata": {},
      "source": [
        "## Q2a\n",
        "\n",
        "How many `parties` have `provided` or `disbursed` positive funding `contributions` to other countries or regions for their `adaptation` projects for every single `year` from 2011 to 2018?\n"
      ],
      "id": "07a615ea"
    },
    {
      "cell_type": "markdown",
      "metadata": {},
      "source": [
        "<br><br>\n",
        "\n",
        "## Q2b\n",
        "\n",
        "For each `party`, calculate the total funding `contributions` that were `disbursed` or `provided` for `mitigation` projects for each `year`.\n"
      ],
      "id": "6b2f6b07"
    },
    {
      "cell_type": "markdown",
      "metadata": {},
      "source": [
        "<br><br>\n",
        "\n",
        "## Q2c\n",
        "\n",
        "For each `party`, calculate the ratio between `adaptation` contribution and `mitigation` contribution for each type of `Status` for each `year`.\n"
      ],
      "id": "70774291"
    },
    {
      "cell_type": "markdown",
      "metadata": {},
      "source": [
        "<br><br>\n",
        "\n",
        "## Q2d\n",
        "\n",
        "Provide both seaborn code and a simple comment to describe the distribution of the ratio between `adaptation` contribution and `mitigation` contribution, which is calculated in Q2c.\n"
      ],
      "id": "8876132b"
    },
    {
      "cell_type": "markdown",
      "metadata": {},
      "source": [
        "<br><br>\n",
        "\n",
        "## Q2e\n",
        "\n",
        "Provide both seaborn code and a simple comment to describe how the distribution of `Contribution` varies by `Type of support` and `Status`.\n"
      ],
      "id": "43bc052a"
    }
  ],
  "metadata": {
    "kernelspec": {
      "name": "python3",
      "language": "python",
      "display_name": "Python 3 (ipykernel)"
    }
  },
  "nbformat": 4,
  "nbformat_minor": 5
}