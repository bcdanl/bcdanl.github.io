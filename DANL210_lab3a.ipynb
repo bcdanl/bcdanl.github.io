{
  "cells": [
    {
      "cell_type": "raw",
      "metadata": {},
      "source": [
        "---\n",
        "title: \"Python Lab 3 - Tidy Data\"\n",
        "author: \"Byeong-Hak Choe\"\n",
        "# include-after-body: [beer_map.html, beer_map_ny.html]\n",
        "editor: visual\n",
        "---"
      ],
      "id": "94478990"
    },
    {
      "cell_type": "markdown",
      "metadata": {},
      "source": [
        "## Load Libraries\n"
      ],
      "id": "c3340390"
    },
    {
      "cell_type": "code",
      "metadata": {},
      "source": [
        "import pandas as pd\n",
        "import numpy as np\n",
        "from skimpy import skim\n",
        "import seaborn as sns"
      ],
      "id": "3c1f9fba",
      "execution_count": null,
      "outputs": []
    },
    {
      "cell_type": "markdown",
      "metadata": {},
      "source": [
        "# Question 1\n",
        "\n",
        "## Load `DataFrame`\n"
      ],
      "id": "08e73a83"
    },
    {
      "cell_type": "code",
      "metadata": {
        "message": false
      },
      "source": [
        "#| warning: false\n",
        "billboard = pd.read_csv('https://bcdanl.github.io/data/billboard.csv')\n",
        "ny_pincp = pd.read_csv('https://bcdanl.github.io/data/NY_pinc_wide.csv')\n",
        "covid = pd.read_csv('https://bcdanl.github.io/data/covid19_cases.csv')"
      ],
      "id": "02f47324",
      "execution_count": null,
      "outputs": []
    },
    {
      "cell_type": "markdown",
      "metadata": {},
      "source": [
        "## Q1a\n",
        "\n",
        "- Describe how the distribution of rating varies across week 1, week 2, and week 3 using the **faceted** histogram.\n"
      ],
      "id": "62e29486"
    },
    {
      "cell_type": "code",
      "metadata": {},
      "source": [
        "# The .isin() method is used to check whether each value in the \"week\" column is present in the given list of values. \n",
        "billboard_wk1_2_3 = billboard_long.loc[\n",
        "    billboard_long['week'].isin(['wk1', 'wk2', 'wk3'])\n",
        "    ]\n",
        "\n",
        "import seaborn as sns\n",
        "sns.displot(billboard_long3,\n",
        "             x = 'rating',\n",
        "             row = 'week'\n",
        "             )"
      ],
      "id": "ebc10503",
      "execution_count": null,
      "outputs": []
    },
    {
      "cell_type": "markdown",
      "metadata": {},
      "source": [
        "## Q1b\n",
        "\n",
        "-  Which artist(s) have the most number of tracks in `billboard` DataFrame?\n"
      ],
      "id": "a5ec40bc"
    },
    {
      "cell_type": "code",
      "metadata": {
        "message": false
      },
      "source": [
        "#| warning: false\n",
        "\n",
        "billboard_songs = (\n",
        "    billboard[[\"artist\", \"track\"]]\n",
        "    .drop_duplicates()        # drops duplicate observations.\n",
        "    .drop(\"track\", axis = 1)  # drops variable, track.\n",
        "    .value_counts()\n",
        "    )"
      ],
      "id": "b087dfa6",
      "execution_count": null,
      "outputs": []
    },
    {
      "cell_type": "markdown",
      "metadata": {},
      "source": [
        "## Q1c\n",
        "\n",
        "-   Make `ny_pincp` longer.\n"
      ],
      "id": "ee1ea983"
    },
    {
      "cell_type": "code",
      "metadata": {
        "message": false
      },
      "source": [
        "#| warning: false\n",
        "\n",
        "ny_pincp_long = ny_pincp.melt(\n",
        "        id_vars = ['fips', 'geoname'],\n",
        "        var_name = 'year',\n",
        "        value_name = 'pincp'\n",
        "        )\n"
      ],
      "id": "26d65974",
      "execution_count": null,
      "outputs": []
    },
    {
      "cell_type": "markdown",
      "metadata": {},
      "source": [
        "## Q1d\n",
        "\n",
        "- Make a wide-form DataFrame of `covid` whose variable names are from `countriesAndTerritories` and values are from `cases`.\n"
      ],
      "id": "e1f68f5c"
    },
    {
      "cell_type": "code",
      "metadata": {
        "message": false
      },
      "source": [
        "#| warning: false\n",
        "\n",
        "covid_wide = (\n",
        "    covid\n",
        "    .pivot_table(index = 'date', \n",
        "           columns = 'countriesAndTerritories', \n",
        "           values = 'cases')\n",
        "    )\n"
      ],
      "id": "fa10d0ae",
      "execution_count": null,
      "outputs": []
    },
    {
      "cell_type": "markdown",
      "metadata": {},
      "source": [
        "## Q1e\n",
        "\n",
        "- Use the wide-form DataFrame of `covid` to find the top 10 countries for which their cases are highly correlated with USA's cases using `DataFrame.corr()`\n"
      ],
      "id": "2906f6cd"
    },
    {
      "cell_type": "code",
      "metadata": {},
      "source": [
        "corr_usa = (\n",
        "    covid_wide.corr()\n",
        "    .sort_values(by = 'USA', ascending = False)\n",
        "    .USA\n",
        "    )"
      ],
      "id": "4a53e045",
      "execution_count": null,
      "outputs": []
    }
  ],
  "metadata": {
    "kernelspec": {
      "name": "python3",
      "language": "python",
      "display_name": "Python 3 (ipykernel)"
    }
  },
  "nbformat": 4,
  "nbformat_minor": 5
}