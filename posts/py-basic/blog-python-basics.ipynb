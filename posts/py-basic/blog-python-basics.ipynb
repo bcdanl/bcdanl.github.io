{
  "cells": [
    {
      "cell_type": "markdown",
      "source": [
        "---\n",
        "title: \"Python Basics\"\n",
        "author: \"Byeong-Hak Choe\"\n",
        "date: \"2024-02-07\"\n",
        "categories: [python]\n",
        "image: \"py-basic.png\"\n",
        "---"
      ],
      "metadata": {
        "id": "epBt_K-wZ09K"
      },
      "id": "epBt_K-wZ09K"
    },
    {
      "cell_type": "markdown",
      "id": "d888a05d",
      "metadata": {
        "id": "d888a05d"
      },
      "source": [
        "# Introduction to Python"
      ]
    },
    {
      "cell_type": "markdown",
      "id": "4ced8e71",
      "metadata": {
        "id": "4ced8e71"
      },
      "source": [
        "## What is Python?"
      ]
    },
    {
      "cell_type": "markdown",
      "source": [
        "Python is a high-level, interpreted programming language. This is a simple Python code:"
      ],
      "metadata": {
        "id": "H9PipRWtEsfO"
      },
      "id": "H9PipRWtEsfO"
    },
    {
      "cell_type": "code",
      "execution_count": null,
      "id": "834bc383",
      "metadata": {
        "id": "834bc383"
      },
      "outputs": [],
      "source": [
        "print('Hello, World!')"
      ]
    },
    {
      "cell_type": "markdown",
      "id": "39f9fb03",
      "metadata": {
        "id": "39f9fb03"
      },
      "source": [
        "## Variables and Data Types"
      ]
    },
    {
      "cell_type": "markdown",
      "source": [
        "In Python, variables can store data of different types without explicitly declaring the type.\n",
        "\n",
        "For example:"
      ],
      "metadata": {
        "id": "ld1HKQ0XEvx3"
      },
      "id": "ld1HKQ0XEvx3"
    },
    {
      "cell_type": "code",
      "execution_count": null,
      "id": "e6744d1e",
      "metadata": {
        "id": "e6744d1e",
        "colab": {
          "base_uri": "https://localhost:8080/"
        },
        "outputId": "371456e1-bf0f-448f-ae8d-70c4354ce310"
      },
      "outputs": [
        {
          "output_type": "execute_result",
          "data": {
            "text/plain": [
              "10.5"
            ]
          },
          "metadata": {},
          "execution_count": 1
        }
      ],
      "source": [
        "integer_variable = 10\n",
        "string_variable = 'Hello'\n",
        "float_variable = 10.5\n",
        "\n",
        "float_variable"
      ]
    },
    {
      "cell_type": "markdown",
      "id": "d01ba669",
      "metadata": {
        "id": "d01ba669"
      },
      "source": [
        "## Control Structures"
      ]
    },
    {
      "cell_type": "markdown",
      "source": [
        "Python supports the usual logical conditions from mathematics:"
      ],
      "metadata": {
        "id": "wMeC8exAE2Bv"
      },
      "id": "wMeC8exAE2Bv"
    },
    {
      "cell_type": "code",
      "execution_count": null,
      "id": "f74e2029",
      "metadata": {
        "id": "f74e2029"
      },
      "outputs": [],
      "source": [
        "# Equals: a == b\n",
        "# Not Equals: a != b\n",
        "# Less than: a < b\n",
        "# Less than or equal to: a <= b\n",
        "# Greater than: a > b\n",
        "# Greater than or equal to: a >= b"
      ]
    },
    {
      "cell_type": "markdown",
      "source": [
        "These conditions can be used in several ways, most commonly in 'if statements' and loops."
      ],
      "metadata": {
        "id": "T0RPCSNhE88q"
      },
      "id": "T0RPCSNhE88q"
    },
    {
      "cell_type": "code",
      "source": [
        "# if statement:\n",
        "if 5 > 2:\n",
        "    print('Five is greater than two!')"
      ],
      "metadata": {
        "id": "WqMXB9zXE6rB"
      },
      "id": "WqMXB9zXE6rB",
      "execution_count": null,
      "outputs": []
    },
    {
      "cell_type": "markdown",
      "id": "d4d8f434",
      "metadata": {
        "id": "d4d8f434"
      },
      "source": [
        "## Functions"
      ]
    },
    {
      "cell_type": "markdown",
      "source": [
        "A function is a block of code which only runs when it is called.\n",
        "\n",
        "You can pass data, known as parameters, into a function.\n",
        "\n",
        "A function can return data as a result.\n",
        "\n"
      ],
      "metadata": {
        "id": "_c3f-aluFEJH"
      },
      "id": "_c3f-aluFEJH"
    },
    {
      "cell_type": "code",
      "execution_count": null,
      "id": "311db165",
      "metadata": {
        "id": "311db165"
      },
      "outputs": [],
      "source": [
        "# Defining a function:\n",
        "def my_function():\n",
        "    print('Hello from a function')\n",
        "\n",
        "# Calling a function:\n",
        "my_function()"
      ]
    },
    {
      "cell_type": "markdown",
      "id": "e759a298",
      "metadata": {
        "id": "e759a298"
      },
      "source": [
        "## Lists and Dictionaries"
      ]
    },
    {
      "cell_type": "markdown",
      "source": [
        "A list is a collection which is ordered and changeable.\n",
        "\n",
        "A dictionary is a collection which is unordered, changeable and indexed."
      ],
      "metadata": {
        "id": "rVrAVX_gFQ1t"
      },
      "id": "rVrAVX_gFQ1t"
    },
    {
      "cell_type": "code",
      "execution_count": null,
      "id": "58d29398",
      "metadata": {
        "id": "58d29398"
      },
      "outputs": [],
      "source": [
        "# List example:\n",
        "my_list = ['apple', 'banana', 'cherry']\n",
        "\n",
        "# Dictionary example:\n",
        "my_dict = {'name': 'John', 'age': 36}"
      ]
    }
  ],
  "metadata": {
    "colab": {
      "provenance": []
    },
    "language_info": {
      "name": "python"
    },
    "kernelspec": {
      "name": "python3",
      "display_name": "Python 3"
    }
  },
  "nbformat": 4,
  "nbformat_minor": 5
}